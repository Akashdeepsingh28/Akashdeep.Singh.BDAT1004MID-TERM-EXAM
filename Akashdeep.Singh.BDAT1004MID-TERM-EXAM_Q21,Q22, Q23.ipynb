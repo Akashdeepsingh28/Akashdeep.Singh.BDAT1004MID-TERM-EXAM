{
 "cells": [
  {
   "cell_type": "markdown",
   "id": "d92583f3-d187-46d5-9b8b-0d29d25a2a4c",
   "metadata": {},
   "source": [
    "# MID TERM EXAM"
   ]
  },
  {
   "cell_type": "markdown",
   "id": "aabfeed5-957f-41f9-86a0-1a143c44b658",
   "metadata": {},
   "source": [
    "## Answer 21"
   ]
  },
  {
   "cell_type": "code",
   "execution_count": 18,
   "id": "e6ea2efb-d4a9-40f5-abee-b1f4cdb8801f",
   "metadata": {},
   "outputs": [
    {
     "name": "stdout",
     "output_type": "stream",
     "text": [
      "Length of the segment: 5.0\n",
      "Slope of the segment: 1.33\n"
     ]
    }
   ],
   "source": [
    "class Point:\n",
    "    def __init__(self, x=0, y=0):\n",
    "        self.x = x\n",
    "        self.y = y\n",
    "\n",
    "class Segment:\n",
    "    def __init__(self, p1, p2):\n",
    "        self.p1 = p1\n",
    "        self.p2 = p2\n",
    "    \n",
    "    def length(self):\n",
    "        dx = self.p2.x - self.p1.x\n",
    "        dy = self.p2.y - self.p1.y\n",
    "        return (dx**2 + dy**2)**0.5\n",
    "    \n",
    "    def slope(self):\n",
    "        dx = self.p2.x - self.p1.x\n",
    "        dy = self.p2.y - self.p1.y\n",
    "        if dx == 0:\n",
    "            return None  # Slope is undefined (vertical line)\n",
    "        return dy / dx\n",
    "\n",
    "# Example usage\n",
    "p1 = Point(3, 4)\n",
    "p2 = Point()  # Default (0, 0)\n",
    "s = Segment(p1, p2)\n",
    "\n",
    "print(f\"Length of the segment: {s.length()}\")  # Output: Length of the segment: 5.0\n",
    "print(f\"Slope of the segment: {s.slope():.2f}\") "
   ]
  },
  {
   "cell_type": "markdown",
   "id": "22b2e9bc-ffc5-4717-abdd-057380268c32",
   "metadata": {},
   "source": [
    "## Answer 22"
   ]
  },
  {
   "cell_type": "code",
   "execution_count": 23,
   "id": "246dc5d7-4604-44f6-81e2-d5d17f96634b",
   "metadata": {},
   "outputs": [],
   "source": [
    "import sqlite3\n",
    "\n",
    "conn = sqlite3.connect('weather.db')\n",
    "cur = conn.cursor()\n",
    "\n",
    "cur.execute('''\n",
    "    CREATE TABLE IF NOT EXISTS Weather (\n",
    "        id INTEGER PRIMARY KEY,\n",
    "        recordDate DATE,\n",
    "        temperature INTEGER\n",
    "    )\n",
    "''')\n",
    "\n",
    "data = [\n",
    "    (1, '2015-01-01', 10),\n",
    "    (2, '2015-01-02', 25),\n",
    "    (3, '2015-01-03', 20),\n",
    "    (4, '2015-01-04', 30)\n",
    "]\n",
    "\n",
    "sql_query = '''\n",
    "    SELECT w2.id\n",
    "    FROM Weather w1\n",
    "    WHERE w2.temperature > w1.temperature\n",
    "''' \n",
    "\n",
    "conn.close()"
   ]
  },
  {
   "cell_type": "markdown",
   "id": "5a4d9bf9-f88d-4cb7-b294-0a1d64a94eb9",
   "metadata": {},
   "source": [
    "## Answer 23"
   ]
  },
  {
   "cell_type": "code",
   "execution_count": 19,
   "id": "a41d2c6d-d94a-430e-97aa-910cfdfd8182",
   "metadata": {},
   "outputs": [
    {
     "name": "stdout",
     "output_type": "stream",
     "text": [
      "f(0, 0):\n",
      "\n",
      "f(0, 1):\n",
      "*\n",
      "\n",
      "f(0, 2):\n",
      "*\n",
      "**\n",
      " *\n",
      "\n",
      "f(0, 4):\n",
      "*\n",
      "**\n",
      " *\n",
      "****\n",
      " *\n",
      " **\n",
      "  *\n"
     ]
    }
   ],
   "source": [
    "def tough(space, number):\n",
    "    if (number>0):\n",
    "        tough(space, number//2)\n",
    "        print(' ' * space + '*' * number)\n",
    "        tough(space + 1, number //2)\n",
    "    \n",
    "print(\"f(0, 0):\")\n",
    "tough(0, 0)\n",
    "print(\"\\nf(0, 1):\")\n",
    "tough(0, 1)\n",
    "print(\"\\nf(0, 2):\")\n",
    "tough(0, 2)\n",
    "print(\"\\nf(0, 4):\")\n",
    "tough(0, 4)"
   ]
  }
 ],
 "metadata": {
  "kernelspec": {
   "display_name": "Python 3 (ipykernel)",
   "language": "python",
   "name": "python3"
  },
  "language_info": {
   "codemirror_mode": {
    "name": "ipython",
    "version": 3
   },
   "file_extension": ".py",
   "mimetype": "text/x-python",
   "name": "python",
   "nbconvert_exporter": "python",
   "pygments_lexer": "ipython3",
   "version": "3.11.7"
  }
 },
 "nbformat": 4,
 "nbformat_minor": 5
}
